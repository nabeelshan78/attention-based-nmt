{
 "cells": [
  {
   "cell_type": "code",
   "execution_count": 55,
   "metadata": {},
   "outputs": [],
   "source": [
    "import tensorflow as tf\n",
    "from tensorflow.keras.layers import Input, Embedding, LSTM, Bidirectional, Dense, Concatenate, Attention, AdditiveAttention\n",
    "from tensorflow.keras.models import Model\n",
    "import numpy as np\n",
    "import os\n",
    "from datetime import datetime # For checkpoint naming\n",
    "import json\n",
    "import pickle"
   ]
  },
  {
   "cell_type": "code",
   "execution_count": 56,
   "metadata": {},
   "outputs": [],
   "source": [
    "from preprocessing import (\n",
    "    filter_and_count_sentences,\n",
    "    remove_attributes_from_filtered_sentences,\n",
    "    load_cleaned_pairs,\n",
    "    tokenize,\n",
    "    build_vocab,\n",
    "    sentences_to_indices,\n",
    "    preprocess_data,\n",
    ")"
   ]
  },
  {
   "cell_type": "code",
   "execution_count": 3,
   "metadata": {},
   "outputs": [],
   "source": [
    "INPUT_FILE = \"dataset/raw/eng_fra.txt\" \n",
    "MAX_SENTENCE_WORDS = 20"
   ]
  },
  {
   "cell_type": "code",
   "execution_count": 4,
   "metadata": {},
   "outputs": [
    {
     "name": "stdout",
     "output_type": "stream",
     "text": [
      "Total sentences read from file: 237838\n",
      "Sentence pairs exceeding 20 words (either English or French): 430\n",
      "English sentences individually exceeding 20 words: 170\n",
      "French sentences individually exceeding 20 words: 394\n",
      "Number of sentences kept after filtering: 237408\n"
     ]
    }
   ],
   "source": [
    "filtered_raw_sentences, total_read, exceeding_pairs, eng_exceeding, fra_exceeding = \\\n",
    "    filter_and_count_sentences(INPUT_FILE, max_words=MAX_SENTENCE_WORDS)\n",
    "\n",
    "print(f\"Total sentences read from file: {total_read}\")\n",
    "print(f\"Sentence pairs exceeding {MAX_SENTENCE_WORDS} words (either English or French): {exceeding_pairs}\")\n",
    "print(f\"English sentences individually exceeding {MAX_SENTENCE_WORDS} words: {eng_exceeding}\")\n",
    "print(f\"French sentences individually exceeding {MAX_SENTENCE_WORDS} words: {fra_exceeding}\")\n",
    "print(f\"Number of sentences kept after filtering: {len(filtered_raw_sentences)}\")"
   ]
  },
  {
   "cell_type": "code",
   "execution_count": 5,
   "metadata": {},
   "outputs": [
    {
     "name": "stdout",
     "output_type": "stream",
     "text": [
      "First 3 cleaned sentences (without attributes):\n",
      "['Go.\\tVa !', 'Go.\\tMarche.', 'Go.\\tEn route !']\n",
      "Total cleaned sentences: 237408\n"
     ]
    }
   ],
   "source": [
    "clean_filtered_sentences = remove_attributes_from_filtered_sentences(filtered_raw_sentences)\n",
    "print(f\"First 3 cleaned sentences (without attributes):\\n{clean_filtered_sentences[:3]}\")\n",
    "print(f\"Total cleaned sentences: {len(clean_filtered_sentences)}\")"
   ]
  },
  {
   "cell_type": "code",
   "execution_count": 6,
   "metadata": {},
   "outputs": [
    {
     "name": "stdout",
     "output_type": "stream",
     "text": [
      "First 3 sentence pairs (list of lists):\n",
      "[['Go.', 'Va !'], ['Go.', 'Marche.'], ['Go.', 'En route !']]\n",
      "Total sentence pairs: 237408\n"
     ]
    }
   ],
   "source": [
    "sentence_pairs = load_cleaned_pairs(clean_filtered_sentences)\n",
    "print(f\"First 3 sentence pairs (list of lists):\\n{sentence_pairs[:3]}\")\n",
    "print(f\"Total sentence pairs: {len(sentence_pairs)}\")"
   ]
  },
  {
   "cell_type": "code",
   "execution_count": 7,
   "metadata": {},
   "outputs": [
    {
     "name": "stdout",
     "output_type": "stream",
     "text": [
      "First 3 tokenized English sentences:\n",
      "[['go.'], ['go.'], ['go.']]\n",
      "First 3 tokenized French sentences:\n",
      "[['va', '!'], ['marche.'], ['en', 'route', '!']]\n"
     ]
    }
   ],
   "source": [
    "eng_sents_for_vocab = [pair[0] for pair in sentence_pairs]\n",
    "fra_sents_for_vocab = [pair[1] for pair in sentence_pairs]\n",
    "tokenized_eng_for_vocab = tokenize(eng_sents_for_vocab)\n",
    "tokenized_fra_for_vocab = tokenize(fra_sents_for_vocab)\n",
    "\n",
    "print(f\"First 3 tokenized English sentences:\\n{tokenized_eng_for_vocab[:3]}\")\n",
    "print(f\"First 3 tokenized French sentences:\\n{tokenized_fra_for_vocab[:3]}\")"
   ]
  },
  {
   "cell_type": "code",
   "execution_count": 8,
   "metadata": {},
   "outputs": [
    {
     "name": "stdout",
     "output_type": "stream",
     "text": [
      "English Vocabulary Size: 30691\n",
      "French Vocabulary Size: 49061\n",
      "Sample English Vocab (first 10 items): [('<pad>', 0), ('<sos>', 1), ('<eos>', 2), ('<unk>', 3), ('go.', 4), ('hi.', 5), ('run!', 6), ('run.', 7), ('who?', 8), ('wow!', 9)]\n",
      "Sample French Vocab (first 10 items): [('<pad>', 0), ('<sos>', 1), ('<eos>', 2), ('<unk>', 3), ('va', 4), ('!', 5), ('marche.', 6), ('en', 7), ('route', 8), ('bouge', 9)]\n"
     ]
    }
   ],
   "source": [
    "eng_vocab, eng_inv_vocab = build_vocab(tokenized_eng_for_vocab)\n",
    "fra_vocab, fra_inv_vocab = build_vocab(tokenized_fra_for_vocab)\n",
    "\n",
    "input_vocab_size = len(eng_vocab)\n",
    "target_vocab_size = len(fra_vocab)\n",
    "\n",
    "\n",
    "print(f\"English Vocabulary Size: {input_vocab_size}\")\n",
    "print(f\"French Vocabulary Size: {target_vocab_size}\")\n",
    "print(f\"Sample English Vocab (first 10 items): {list(eng_vocab.items())[:10]}\")\n",
    "print(f\"Sample French Vocab (first 10 items): {list(fra_vocab.items())[:10]}\")"
   ]
  },
  {
   "cell_type": "code",
   "execution_count": 10,
   "metadata": {},
   "outputs": [],
   "source": [
    "Tx = 22\n",
    "Ty = 20"
   ]
  },
  {
   "cell_type": "code",
   "execution_count": 12,
   "metadata": {},
   "outputs": [],
   "source": [
    "# Preprocess Data for Model Input\n",
    "encoder_input_data, decoder_input_data, decoder_target_data = preprocess_data(\n",
    "    sentence_pairs, eng_vocab, fra_vocab, Tx=22, Ty=20\n",
    ")"
   ]
  },
  {
   "cell_type": "code",
   "execution_count": 13,
   "metadata": {},
   "outputs": [
    {
     "name": "stdout",
     "output_type": "stream",
     "text": [
      "Shape of Encoder Input Data: (237408, 22)\n",
      "Shape of Decoder Input Data: (237408, 20)\n",
      "Shape of Decoder Target Data: (237408, 20)\n"
     ]
    }
   ],
   "source": [
    "print(f\"Shape of Encoder Input Data: {encoder_input_data.shape}\")     # (num_samples, Tx)\n",
    "print(f\"Shape of Decoder Input Data: {decoder_input_data.shape}\")     # (num_samples, Ty - 1)\n",
    "print(f\"Shape of Decoder Target Data: {decoder_target_data.shape}\")   # (num_samples, Ty)"
   ]
  },
  {
   "cell_type": "markdown",
   "metadata": {},
   "source": [
    "### Save Data"
   ]
  },
  {
   "cell_type": "code",
   "execution_count": 6,
   "metadata": {},
   "outputs": [],
   "source": [
    "output_dir = \"dataset/processed\"\n",
    "# os.makedirs(output_dir, exist_ok=True)"
   ]
  },
  {
   "cell_type": "code",
   "execution_count": 5,
   "metadata": {},
   "outputs": [],
   "source": [
    "# file paths\n",
    "encoder_path = os.path.join(output_dir, \"encoder_input_data.npy\")\n",
    "decoder_input_path = os.path.join(output_dir, \"decoder_input_data.npy\")\n",
    "decoder_target_path = os.path.join(output_dir, \"decoder_target_data.npy\")\n",
    "eng_vocab_path = os.path.join(output_dir, \"eng_vocab.npy\")\n",
    "fra_vocab_path = os.path.join(output_dir, \"fra_vocab.npy\")"
   ]
  },
  {
   "cell_type": "code",
   "execution_count": 18,
   "metadata": {},
   "outputs": [
    {
     "name": "stdout",
     "output_type": "stream",
     "text": [
      "\n",
      "Preprocessed data saved to 'dataset/processed':\n",
      "- encoder_input_data.npy\n",
      "- decoder_input_data.npy\n",
      "- decoder_target_data.npy\n",
      "- eng_vocab.json\n",
      "- fra_vocab.json\n"
     ]
    }
   ],
   "source": [
    "# Save the NumPy arrays\n",
    "np.save(encoder_path, encoder_input_data)\n",
    "np.save(decoder_input_path, decoder_input_data)\n",
    "np.save(decoder_target_path, decoder_target_data)\n",
    "\n",
    "\n",
    "with open(eng_vocab_path.replace('.npy', '.json'), 'w', encoding='utf-8') as f:\n",
    "    json.dump(eng_vocab, f, ensure_ascii=False, indent=4)\n",
    "with open(fra_vocab_path.replace('.npy', '.json'), 'w', encoding='utf-8') as f:\n",
    "    json.dump(fra_vocab, f, ensure_ascii=False, indent=4)\n",
    "\n",
    "\n",
    "print(f\"\\nPreprocessed data saved to '{output_dir}':\")\n",
    "print(f\"- {os.path.basename(encoder_path)}\")\n",
    "print(f\"- {os.path.basename(decoder_input_path)}\")\n",
    "print(f\"- {os.path.basename(decoder_target_path)}\")\n",
    "print(f\"- {os.path.basename(eng_vocab_path.replace('.npy', '.json'))}\")\n",
    "print(f\"- {os.path.basename(fra_vocab_path.replace('.npy', '.json'))}\")"
   ]
  },
  {
   "cell_type": "markdown",
   "metadata": {},
   "source": [
    "### Loading Data"
   ]
  },
  {
   "cell_type": "code",
   "execution_count": 33,
   "metadata": {},
   "outputs": [],
   "source": [
    "# file paths\n",
    "output_dir = \"dataset/processed\"\n",
    "\n",
    "encoder_path = os.path.join(output_dir, \"encoder_input_data.npy\")\n",
    "decoder_input_path = os.path.join(output_dir, \"decoder_input_data.npy\")\n",
    "decoder_target_path = os.path.join(output_dir, \"decoder_target_data.npy\")\n",
    "eng_vocab_path = os.path.join(output_dir, \"eng_vocab.npy\")\n",
    "fra_vocab_path = os.path.join(output_dir, \"fra_vocab.npy\")\n",
    "\n",
    "encoder_input_data_loaded = np.load(encoder_path)\n",
    "decoder_input_data_loaded = np.load(decoder_input_path)\n",
    "decoder_target_data_loaded = np.load(decoder_target_path)\n",
    "with open(eng_vocab_path.replace('.npy', '.json'), 'r', encoding='utf-8') as f:\n",
    "    eng_vocab_loaded = json.load(f)\n",
    "with open(fra_vocab_path.replace('.npy', '.json'), 'r', encoding='utf-8') as f:\n",
    "    fra_vocab_loaded = json.load(f)"
   ]
  },
  {
   "cell_type": "code",
   "execution_count": 34,
   "metadata": {},
   "outputs": [
    {
     "name": "stdout",
     "output_type": "stream",
     "text": [
      "Shape of Encoder Input Data: (237408, 22)\n",
      "Shape of Decoder Input Data: (237408, 20)\n",
      "Shape of Decoder Target Data: (237408, 20)\n"
     ]
    }
   ],
   "source": [
    "print(f\"Shape of Encoder Input Data: {encoder_input_data_loaded.shape}\")     # (num_samples, Tx)\n",
    "print(f\"Shape of Decoder Input Data: {decoder_input_data_loaded.shape}\")     # (num_samples, Ty - 1)\n",
    "print(f\"Shape of Decoder Target Data: {decoder_target_data_loaded.shape}\")   # (num_samples, Ty)"
   ]
  },
  {
   "cell_type": "code",
   "execution_count": 35,
   "metadata": {},
   "outputs": [],
   "source": [
    "Tx = 22\n",
    "Ty = 20"
   ]
  },
  {
   "cell_type": "code",
   "execution_count": 36,
   "metadata": {},
   "outputs": [],
   "source": [
    "encoder_input_data = encoder_input_data_loaded\n",
    "decoder_input_data = decoder_input_data_loaded\n",
    "decoder_target_data = decoder_target_data_loaded\n",
    "eng_vocab = eng_vocab_loaded\n",
    "fra_vocab = fra_vocab_loaded\n",
    "input_vocab_size = len(eng_vocab)\n",
    "target_vocab_size = len(fra_vocab)"
   ]
  },
  {
   "cell_type": "code",
   "execution_count": null,
   "metadata": {},
   "outputs": [],
   "source": []
  },
  {
   "cell_type": "code",
   "execution_count": 7,
   "metadata": {},
   "outputs": [],
   "source": [
    "def create_nmt_model(Tx, Ty, input_vocab_size, target_vocab_size, embedding_dim=128, lstm_units=128):\n",
    "    \"\"\"\n",
    "    Builds a Sequence-to-Sequence NMT model with Bidirectional LSTM encoder,\n",
    "    Additive Attention, and Unidirectional LSTM decoder. Returns models for\n",
    "    training and inference.\n",
    "\n",
    "    Args:\n",
    "        Tx (int): Max input sequence length (encoder).\n",
    "        Ty (int): Max target sequence length (decoder input and target length, including EOS).\n",
    "                  This 'Ty' value should be consistent with the `maxlen` used for\n",
    "                  padding `decoder_input_padded` and `decoder_target_padded` in `preprocess_data`.\n",
    "        input_vocab_size (int): Input vocabulary size.\n",
    "        target_vocab_size (int): Target vocabulary size.\n",
    "        embedding_dim (int): Dimensionality of the word embeddings.\n",
    "        lstm_units (int): LSTM units per direction in encoder.\n",
    "\n",
    "    Returns:\n",
    "        tf.keras.Model: The compiled training model.\n",
    "        tf.keras.Model: The encoder inference model.\n",
    "        tf.keras.Model: The decoder inference model.\n",
    "        tf.keras.layers.Dense: The final output dense layer (shared for reuse).\n",
    "        tf.keras.layers.AdditiveAttention: The attention layer (shared for reuse).\n",
    "        tf.keras.layers.LSTM: The decoder LSTM layer (shared for reuse).\n",
    "        tf.keras.layers.Embedding: The decoder embedding layer (shared for reuse).\n",
    "    \"\"\"\n",
    "\n",
    "    # --- FIX: Ensure embedding_dim matches lstm_units for attention compatibility ---\n",
    "    # You can either pass embedding_dim=lstm_units when calling this function\n",
    "    # OR set it explicitly here. Let's make it consistent by default.\n",
    "    embedding_dim_for_attention = lstm_units # <--- KEY CHANGE HERE\n",
    "\n",
    "    # --- Shared Layers (to reuse weights between training and inference models) ---\n",
    "    # Use embedding_dim_for_attention for both embedding layers\n",
    "    encoder_embedding_layer = Embedding(input_vocab_size, embedding_dim_for_attention, mask_zero=True, name=\"encoder_embedding\")\n",
    "    encoder_bilstm = Bidirectional(LSTM(lstm_units, return_sequences=True, return_state=True, dropout=0.3), name=\"bi_encoder_lstm\")\n",
    "    encoder_outputs_projection_layer = Dense(lstm_units, activation=\"tanh\", name=\"encoder_outputs_projection\")\n",
    "\n",
    "    decoder_embedding_layer = Embedding(target_vocab_size, embedding_dim_for_attention, mask_zero=True, name=\"decoder_embedding\") # <--- KEY CHANGE HERE\n",
    "    attention_layer = AdditiveAttention(name=\"attention_layer\")\n",
    "    decoder_lstm = LSTM(lstm_units * 2, return_sequences=True, return_state=True, dropout=0.3, name=\"decoder_lstm\")\n",
    "    output_dense_layer = Dense(target_vocab_size, activation='softmax', name=\"output_dense\")\n",
    "\n",
    "\n",
    "    # --- 1. Training Model Architecture ---\n",
    "\n",
    "    # Encoder Input & Processing\n",
    "    encoder_inputs = Input(shape=(Tx,), name=\"encoder_inputs\")\n",
    "    enc_embedding_output = encoder_embedding_layer(encoder_inputs)\n",
    "    encoder_outputs, forward_h, forward_c, backward_h, backward_c = encoder_bilstm(enc_embedding_output)\n",
    "    encoder_outputs_projected = encoder_outputs_projection_layer(encoder_outputs)\n",
    "\n",
    "    # Combine forward and backward states for decoder initialization\n",
    "    state_h = Concatenate(name=\"decoder_initial_h\")([forward_h, backward_h])\n",
    "    state_c = Concatenate(name=\"decoder_initial_c\")([forward_c, backward_c])\n",
    "\n",
    "    # Decoder Input & Processing (for training with Teacher Forcing)\n",
    "    decoder_inputs = Input(shape=(Ty,), name=\"decoder_inputs\") # Input shape consistent with Ty\n",
    "    dec_embedding_output = decoder_embedding_layer(decoder_inputs)\n",
    "\n",
    "    # Attention Calculation for Training\n",
    "    context_vector = attention_layer([dec_embedding_output, encoder_outputs_projected])\n",
    "    decoder_combined_input = Concatenate(axis=-1, name=\"decoder_combined_input\")([dec_embedding_output, context_vector])\n",
    "\n",
    "    # Decoder LSTM for Training\n",
    "    decoder_outputs, _, _ = decoder_lstm(decoder_combined_input, initial_state=[state_h, state_c])\n",
    "    decoder_predictions = output_dense_layer(decoder_outputs)\n",
    "\n",
    "    # Create the Training Model\n",
    "    training_model = Model(inputs=[encoder_inputs, decoder_inputs], outputs=decoder_predictions, name=\"nmt_training_model\")\n",
    "\n",
    "\n",
    "    # --- 2. Encoder Inference Model ---\n",
    "    encoder_inference_model = Model(inputs=encoder_inputs,\n",
    "                                    outputs=[encoder_outputs_projected, state_h, state_c],\n",
    "                                    name=\"encoder_inference_model\")\n",
    "\n",
    "    # --- 3. Decoder Inference Model ---\n",
    "    decoder_input_single_token = Input(shape=(1,), name=\"decoder_input_single_token\")\n",
    "    encoder_states_input = Input(shape=(Tx, lstm_units,), name=\"encoder_states_input\")\n",
    "    decoder_state_h_input = Input(shape=(lstm_units * 2,), name=\"decoder_h_input\")\n",
    "    decoder_state_c_input = Input(shape=(lstm_units * 2,), name=\"decoder_c_input\")\n",
    "\n",
    "    # Embed the single input token\n",
    "    dec_single_embedding_output = decoder_embedding_layer(decoder_input_single_token) # (batch_size, 1, embedding_dim_for_attention)\n",
    "\n",
    "    # Attention Calculation for Inference\n",
    "    inference_context_vector = attention_layer([dec_single_embedding_output, encoder_states_input])\n",
    "    inference_decoder_combined_input = Concatenate(axis=-1, name=\"decoder_combined_input_inference\")([dec_single_embedding_output, inference_context_vector])\n",
    "\n",
    "    # Decoder LSTM for Inference (one step)\n",
    "    inference_decoder_outputs, h_state_output, c_state_output = decoder_lstm(\n",
    "        inference_decoder_combined_input,\n",
    "        initial_state=[decoder_state_h_input, decoder_state_c_input]\n",
    "    )\n",
    "\n",
    "    # Final Output Layer for Inference\n",
    "    inference_predictions = output_dense_layer(inference_decoder_outputs)\n",
    "\n",
    "    # Create the Decoder Inference Model\n",
    "    decoder_inference_model = Model(\n",
    "        inputs=[decoder_input_single_token, encoder_states_input, decoder_state_h_input, decoder_state_c_input],\n",
    "        outputs=[inference_predictions, h_state_output, c_state_output],\n",
    "        name=\"decoder_inference_model\"\n",
    "    )\n",
    "\n",
    "    # Return all components\n",
    "    return training_model, encoder_inference_model, decoder_inference_model, \\\n",
    "           output_dense_layer, attention_layer, decoder_lstm, decoder_embedding_layer"
   ]
  },
  {
   "cell_type": "code",
   "execution_count": 8,
   "metadata": {},
   "outputs": [],
   "source": [
    "training_model, encoder_inference_model, decoder_inference_model, \\\n",
    "           output_dense_layer, attention_layer, decoder_lstm, decoder_embedding_layer = \\\n",
    "create_nmt_model(Tx, Ty, input_vocab_size, target_vocab_size)"
   ]
  },
  {
   "cell_type": "code",
   "execution_count": 9,
   "metadata": {},
   "outputs": [
    {
     "name": "stdout",
     "output_type": "stream",
     "text": [
      "Model: \"nmt_training_model\"\n",
      "__________________________________________________________________________________________________\n",
      " Layer (type)                   Output Shape         Param #     Connected to                     \n",
      "==================================================================================================\n",
      " encoder_inputs (InputLayer)    [(None, 22)]         0           []                               \n",
      "                                                                                                  \n",
      " encoder_embedding (Embedding)  (None, 22, 128)      3928448     ['encoder_inputs[0][0]']         \n",
      "                                                                                                  \n",
      " decoder_inputs (InputLayer)    [(None, 20)]         0           []                               \n",
      "                                                                                                  \n",
      " bi_encoder_lstm (Bidirectional  [(None, 22, 256),   263168      ['encoder_embedding[0][0]']      \n",
      " )                               (None, 128),                                                     \n",
      "                                 (None, 128),                                                     \n",
      "                                 (None, 128),                                                     \n",
      "                                 (None, 128)]                                                     \n",
      "                                                                                                  \n",
      " decoder_embedding (Embedding)  multiple             6279808     ['decoder_inputs[0][0]']         \n",
      "                                                                                                  \n",
      " encoder_outputs_projection (De  (None, 22, 128)     32896       ['bi_encoder_lstm[0][0]']        \n",
      " nse)                                                                                             \n",
      "                                                                                                  \n",
      " attention_layer (AdditiveAtten  multiple            128         ['decoder_embedding[0][0]',      \n",
      " tion)                                                            'encoder_outputs_projection[0][0\n",
      "                                                                 ]']                              \n",
      "                                                                                                  \n",
      " decoder_combined_input (Concat  (None, 20, 256)     0           ['decoder_embedding[0][0]',      \n",
      " enate)                                                           'attention_layer[0][0]']        \n",
      "                                                                                                  \n",
      " decoder_initial_h (Concatenate  (None, 256)         0           ['bi_encoder_lstm[0][1]',        \n",
      " )                                                                'bi_encoder_lstm[0][3]']        \n",
      "                                                                                                  \n",
      " decoder_initial_c (Concatenate  (None, 256)         0           ['bi_encoder_lstm[0][2]',        \n",
      " )                                                                'bi_encoder_lstm[0][4]']        \n",
      "                                                                                                  \n",
      " decoder_lstm (LSTM)            multiple             525312      ['decoder_combined_input[0][0]', \n",
      "                                                                  'decoder_initial_h[0][0]',      \n",
      "                                                                  'decoder_initial_c[0][0]']      \n",
      "                                                                                                  \n",
      " output_dense (Dense)           multiple             12608677    ['decoder_lstm[0][0]']           \n",
      "                                                                                                  \n",
      "==================================================================================================\n",
      "Total params: 23,638,437\n",
      "Trainable params: 23,638,437\n",
      "Non-trainable params: 0\n",
      "__________________________________________________________________________________________________\n"
     ]
    }
   ],
   "source": [
    "training_model.summary()"
   ]
  },
  {
   "cell_type": "code",
   "execution_count": 10,
   "metadata": {},
   "outputs": [
    {
     "name": "stdout",
     "output_type": "stream",
     "text": [
      "\n",
      "--- Compiling Model ---\n"
     ]
    }
   ],
   "source": [
    "print(\"\\n--- Compiling Model ---\")\n",
    "training_model.compile(\n",
    "    optimizer=tf.keras.optimizers.Adam(learning_rate=0.001),\n",
    "    loss='sparse_categorical_crossentropy', \n",
    "    metrics=['accuracy']\n",
    ")"
   ]
  },
  {
   "cell_type": "code",
   "execution_count": null,
   "metadata": {},
   "outputs": [],
   "source": []
  },
  {
   "cell_type": "code",
   "execution_count": 11,
   "metadata": {},
   "outputs": [],
   "source": [
    "def prepare_dataset(encoder_input, decoder_input, decoder_target, batch_size=64, buffer_size=10000):\n",
    "    dataset = tf.data.Dataset.from_tensor_slices(((encoder_input, decoder_input), decoder_target))\n",
    "    dataset = dataset.shuffle(buffer_size)\n",
    "    dataset = dataset.batch(batch_size)\n",
    "    dataset = dataset.prefetch(tf.data.AUTOTUNE)\n",
    "    return dataset"
   ]
  },
  {
   "cell_type": "code",
   "execution_count": null,
   "metadata": {},
   "outputs": [],
   "source": []
  },
  {
   "cell_type": "code",
   "execution_count": 13,
   "metadata": {},
   "outputs": [
    {
     "data": {
      "text/plain": [
       "237408"
      ]
     },
     "execution_count": 13,
     "metadata": {},
     "output_type": "execute_result"
    }
   ],
   "source": [
    "num_total_samples = len(encoder_input_data)\n",
    "num_total_samples"
   ]
  },
  {
   "cell_type": "code",
   "execution_count": 14,
   "metadata": {},
   "outputs": [
    {
     "name": "stdout",
     "output_type": "stream",
     "text": [
      "\n",
      "Total samples: 237408\n",
      "Training samples: 223164\n",
      "Validation samples: 7122\n",
      "Test samples: 7122\n"
     ]
    }
   ],
   "source": [
    "# Constants\n",
    "VALIDATION_SPLIT_RATIO = 0.03\n",
    "TEST_SPLIT_RATIO = 0.03\n",
    "num_total_samples = 237408\n",
    "\n",
    "# Compute exact split sizes\n",
    "num_val_samples = int(num_total_samples * VALIDATION_SPLIT_RATIO)  # 7122\n",
    "num_test_samples = int(num_total_samples * TEST_SPLIT_RATIO)      # 7122\n",
    "num_train_samples = num_total_samples - num_val_samples - num_test_samples  # 223164\n",
    "\n",
    "print(f\"\\nTotal samples: {num_total_samples}\")\n",
    "print(f\"Training samples: {num_train_samples}\")\n",
    "print(f\"Validation samples: {num_val_samples}\")\n",
    "print(f\"Test samples: {num_test_samples}\")\n",
    "\n",
    "# Split the NumPy arrays\n",
    "train_encoder_input = encoder_input_data[:num_train_samples]\n",
    "train_decoder_input = decoder_input_data[:num_train_samples]\n",
    "train_decoder_target = decoder_target_data[:num_train_samples]\n",
    "\n",
    "val_encoder_input = encoder_input_data[num_train_samples:num_train_samples + num_val_samples]\n",
    "val_decoder_input = decoder_input_data[num_train_samples:num_train_samples + num_val_samples]\n",
    "val_decoder_target = decoder_target_data[num_train_samples:num_train_samples + num_val_samples]\n",
    "\n",
    "test_encoder_input = encoder_input_data[-num_test_samples:]\n",
    "test_decoder_input = decoder_input_data[-num_test_samples:]\n",
    "test_decoder_target = decoder_target_data[-num_test_samples:]\n",
    "\n",
    "# Create tf.data.Dataset for training, validation, and test\n",
    "BATCH_SIZE = 64\n",
    "BUFFER_SIZE = 10000\n",
    "\n",
    "train_dataset = prepare_dataset(train_encoder_input, train_decoder_input, train_decoder_target,\n",
    "                                batch_size=BATCH_SIZE, buffer_size=BUFFER_SIZE)\n",
    "\n",
    "val_dataset = prepare_dataset(val_encoder_input, val_decoder_input, val_decoder_target,\n",
    "                              batch_size=BATCH_SIZE, buffer_size=1)\n",
    "\n",
    "test_dataset = prepare_dataset(test_encoder_input, test_decoder_input, test_decoder_target,\n",
    "                               batch_size=BATCH_SIZE, buffer_size=1)"
   ]
  },
  {
   "cell_type": "code",
   "execution_count": 19,
   "metadata": {},
   "outputs": [
    {
     "name": "stdout",
     "output_type": "stream",
     "text": [
      "Checkpoint directory does not exist.\n"
     ]
    }
   ],
   "source": [
    "import shutil\n",
    "\n",
    "checkpoint_dir = \"checkpoints\"\n",
    "\n",
    "if os.path.exists(checkpoint_dir):\n",
    "    shutil.rmtree(checkpoint_dir)\n",
    "    print(f\"Deleted directory: {checkpoint_dir}\")\n",
    "else:\n",
    "    print(\"Checkpoint directory does not exist.\")\n"
   ]
  },
  {
   "cell_type": "code",
   "execution_count": null,
   "metadata": {},
   "outputs": [],
   "source": []
  },
  {
   "cell_type": "code",
   "execution_count": 18,
   "metadata": {},
   "outputs": [],
   "source": [
    "# To save at the end of every epoch, with a unique filename for each epoch:\n",
    "checkpoint_path_per_epoch = \"checkpoints/nmt_model_epoch_{epoch:02d}.keras\"\n",
    "\n",
    "checkpoint_cb_per_epoch = tf.keras.callbacks.ModelCheckpoint(\n",
    "    filepath=checkpoint_path_per_epoch,\n",
    "    monitor='val_loss',\n",
    "    save_best_only=False,  # Save every epoch\n",
    "    save_weights_only=False,\n",
    "    verbose=1 # To see when it saves\n",
    ")\n",
    "\n",
    "# To save only the BEST model based on val_loss:\n",
    "checkpoint_path_best = \"checkpoints/nmt_model_best.keras\"\n",
    "\n",
    "checkpoint_cb_best = tf.keras.callbacks.ModelCheckpoint(\n",
    "    filepath=checkpoint_path_best,\n",
    "    monitor='val_loss',\n",
    "    save_best_only=True,  # Only save if val_loss improves\n",
    "    save_weights_only=False,\n",
    "    verbose=1\n",
    ")"
   ]
  },
  {
   "cell_type": "code",
   "execution_count": 20,
   "metadata": {
    "scrolled": false
   },
   "outputs": [
    {
     "name": "stdout",
     "output_type": "stream",
     "text": [
      "\n",
      "--- Training Model ---\n",
      "Epoch 1/10\n",
      "3486/3487 [============================>.] - ETA: 0s - loss: 1.4557 - accuracy: 0.3882\n",
      "Epoch 1: saving model to checkpoints/nmt_model_epoch_01.keras\n",
      "\n",
      "Epoch 1: val_loss improved from inf to 2.45557, saving model to checkpoints/nmt_model_best.keras\n",
      "3487/3487 [==============================] - 189s 51ms/step - loss: 1.4558 - accuracy: 0.3882 - val_loss: 2.4556 - val_accuracy: 0.3644\n",
      "Epoch 2/10\n",
      "3486/3487 [============================>.] - ETA: 0s - loss: 0.8922 - accuracy: 0.5525\n",
      "Epoch 2: saving model to checkpoints/nmt_model_epoch_02.keras\n",
      "\n",
      "Epoch 2: val_loss improved from 2.45557 to 2.12381, saving model to checkpoints/nmt_model_best.keras\n",
      "3487/3487 [==============================] - 177s 51ms/step - loss: 0.8923 - accuracy: 0.5525 - val_loss: 2.1238 - val_accuracy: 0.4313\n",
      "Epoch 3/10\n",
      "3486/3487 [============================>.] - ETA: 0s - loss: 0.6622 - accuracy: 0.6277\n",
      "Epoch 3: saving model to checkpoints/nmt_model_epoch_03.keras\n",
      "\n",
      "Epoch 3: val_loss improved from 2.12381 to 1.98484, saving model to checkpoints/nmt_model_best.keras\n",
      "3487/3487 [==============================] - 186s 53ms/step - loss: 0.6623 - accuracy: 0.6276 - val_loss: 1.9848 - val_accuracy: 0.4584\n",
      "Epoch 4/10\n",
      "3486/3487 [============================>.] - ETA: 0s - loss: 0.5296 - accuracy: 0.6746\n",
      "Epoch 4: saving model to checkpoints/nmt_model_epoch_04.keras\n",
      "\n",
      "Epoch 4: val_loss improved from 1.98484 to 1.93106, saving model to checkpoints/nmt_model_best.keras\n",
      "3487/3487 [==============================] - 176s 51ms/step - loss: 0.5297 - accuracy: 0.6746 - val_loss: 1.9311 - val_accuracy: 0.4768\n",
      "Epoch 5/10\n",
      "3486/3487 [============================>.] - ETA: 0s - loss: 0.4453 - accuracy: 0.7080\n",
      "Epoch 5: saving model to checkpoints/nmt_model_epoch_05.keras\n",
      "\n",
      "Epoch 5: val_loss improved from 1.93106 to 1.90540, saving model to checkpoints/nmt_model_best.keras\n",
      "3487/3487 [==============================] - 178s 51ms/step - loss: 0.4454 - accuracy: 0.7080 - val_loss: 1.9054 - val_accuracy: 0.4882\n",
      "Epoch 6/10\n",
      "3487/3487 [==============================] - ETA: 0s - loss: 0.3878 - accuracy: 0.7335\n",
      "Epoch 6: saving model to checkpoints/nmt_model_epoch_06.keras\n",
      "\n",
      "Epoch 6: val_loss improved from 1.90540 to 1.90260, saving model to checkpoints/nmt_model_best.keras\n",
      "3487/3487 [==============================] - 176s 51ms/step - loss: 0.3878 - accuracy: 0.7335 - val_loss: 1.9026 - val_accuracy: 0.4959\n",
      "Epoch 7/10\n",
      "3486/3487 [============================>.] - ETA: 0s - loss: 0.3470 - accuracy: 0.7539\n",
      "Epoch 7: saving model to checkpoints/nmt_model_epoch_07.keras\n",
      "\n",
      "Epoch 7: val_loss did not improve from 1.90260\n",
      "3487/3487 [==============================] - 175s 50ms/step - loss: 0.3471 - accuracy: 0.7539 - val_loss: 1.9092 - val_accuracy: 0.5000\n",
      "Epoch 8/10\n",
      "3486/3487 [============================>.] - ETA: 0s - loss: 0.3165 - accuracy: 0.7697\n",
      "Epoch 8: saving model to checkpoints/nmt_model_epoch_08.keras\n",
      "\n",
      "Epoch 8: val_loss did not improve from 1.90260\n",
      "3487/3487 [==============================] - 175s 50ms/step - loss: 0.3166 - accuracy: 0.7696 - val_loss: 1.9110 - val_accuracy: 0.5036\n",
      "Epoch 9/10\n",
      "3486/3487 [============================>.] - ETA: 0s - loss: 0.2933 - accuracy: 0.7823\n",
      "Epoch 9: saving model to checkpoints/nmt_model_epoch_09.keras\n",
      "\n",
      "Epoch 9: val_loss did not improve from 1.90260\n",
      "3487/3487 [==============================] - 175s 50ms/step - loss: 0.2934 - accuracy: 0.7822 - val_loss: 1.9201 - val_accuracy: 0.5077\n",
      "Epoch 10/10\n",
      "3487/3487 [==============================] - ETA: 0s - loss: 0.2752 - accuracy: 0.7916\n",
      "Epoch 10: saving model to checkpoints/nmt_model_epoch_10.keras\n",
      "\n",
      "Epoch 10: val_loss did not improve from 1.90260\n",
      "3487/3487 [==============================] - 175s 50ms/step - loss: 0.2752 - accuracy: 0.7916 - val_loss: 1.9217 - val_accuracy: 0.5109\n",
      "\n",
      "Training complete!\n"
     ]
    }
   ],
   "source": [
    "print(\"\\n--- Training Model ---\")\n",
    "\n",
    "history = training_model.fit(\n",
    "    train_dataset,\n",
    "    validation_data=val_dataset,\n",
    "    epochs=10,\n",
    "    callbacks=[checkpoint_cb_per_epoch, checkpoint_cb_best] \n",
    ")\n",
    "\n",
    "print(\"\\nTraining complete!\")"
   ]
  },
  {
   "cell_type": "code",
   "execution_count": null,
   "metadata": {},
   "outputs": [],
   "source": []
  },
  {
   "cell_type": "code",
   "execution_count": null,
   "metadata": {},
   "outputs": [],
   "source": []
  },
  {
   "cell_type": "code",
   "execution_count": null,
   "metadata": {},
   "outputs": [],
   "source": []
  },
  {
   "cell_type": "markdown",
   "metadata": {},
   "source": [
    "## Plot Train/Val Loss and Accuracy"
   ]
  },
  {
   "cell_type": "code",
   "execution_count": 21,
   "metadata": {},
   "outputs": [],
   "source": [
    "import matplotlib.pyplot as plt\n",
    "\n",
    "def plot_training_history(history):\n",
    "    # Extract values\n",
    "    acc = history.history.get('accuracy') or history.history.get('acc')\n",
    "    val_acc = history.history.get('val_accuracy') or history.history.get('val_acc')\n",
    "    loss = history.history['loss']\n",
    "    val_loss = history.history['val_loss']\n",
    "    epochs = range(1, len(loss) + 1)\n",
    "\n",
    "    # Plot\n",
    "    plt.figure(figsize=(12, 5))\n",
    "\n",
    "    # Accuracy plot\n",
    "    plt.subplot(1, 2, 1)\n",
    "    plt.plot(epochs, acc, 'bo-', label='Training Accuracy')\n",
    "    plt.plot(epochs, val_acc, 'ro-', label='Validation Accuracy')\n",
    "    plt.title('Training and Validation Accuracy')\n",
    "    plt.xlabel('Epochs')\n",
    "    plt.ylabel('Accuracy')\n",
    "    plt.legend()\n",
    "\n",
    "    # Loss plot\n",
    "    plt.subplot(1, 2, 2)\n",
    "    plt.plot(epochs, loss, 'bo-', label='Training Loss')\n",
    "    plt.plot(epochs, val_loss, 'ro-', label='Validation Loss')\n",
    "    plt.title('Training and Validation Loss')\n",
    "    plt.xlabel('Epochs')\n",
    "    plt.ylabel('Loss')\n",
    "    plt.legend()\n",
    "\n",
    "    plt.tight_layout()\n",
    "    plt.show()"
   ]
  },
  {
   "cell_type": "code",
   "execution_count": 22,
   "metadata": {},
   "outputs": [
    {
     "data": {
      "image/png": "[encoded data removed]",
      "text/plain": [
       "<Figure size 1200x500 with 2 Axes>"
      ]
     },
     "metadata": {},
     "output_type": "display_data"
    }
   ],
   "source": [
    "plot_training_history(history)"
   ]
  },
  {
   "cell_type": "code",
   "execution_count": null,
   "metadata": {},
   "outputs": [],
   "source": []
  },
  {
   "cell_type": "code",
   "execution_count": 23,
   "metadata": {},
   "outputs": [],
   "source": [
    "from tensorflow.keras.callbacks import EarlyStopping, ReduceLROnPlateau, ModelCheckpoint\n",
    "\n",
    "# --- Early Stopping ---\n",
    "early_stopping_cb = EarlyStopping(\n",
    "    monitor='val_loss',\n",
    "    patience=5,\n",
    "    restore_best_weights=True,\n",
    "    verbose=1\n",
    ")\n",
    "\n",
    "# --- Reduce Learning Rate on Plateau ---\n",
    "reduce_lr_cb = ReduceLROnPlateau(\n",
    "    monitor='val_loss',\n",
    "    factor=0.5,       # Reduce learning rate by a factor of 0.5\n",
    "    patience=3,       # Wait for 3 epochs before reducing\n",
    "    verbose=1,\n",
    "    min_lr=1e-6       # Do not go below this learning rate\n",
    ")"
   ]
  },
  {
   "cell_type": "code",
   "execution_count": 26,
   "metadata": {},
   "outputs": [],
   "source": [
    "from tensorflow.keras import backend as K\n",
    "\n",
    "K.set_value(training_model.optimizer.lr, 0.0005) "
   ]
  },
  {
   "cell_type": "code",
   "execution_count": 27,
   "metadata": {},
   "outputs": [
    {
     "name": "stdout",
     "output_type": "stream",
     "text": [
      "Epoch 11/200\n",
      "3487/3487 [==============================] - ETA: 0s - loss: 0.2400 - accuracy: 0.8135\n",
      "Epoch 11: saving model to checkpoints/nmt_model_epoch_11.keras\n",
      "\n",
      "Epoch 11: val_loss did not improve from 1.90260\n",
      "3487/3487 [==============================] - 175s 50ms/step - loss: 0.2400 - accuracy: 0.8135 - val_loss: 1.9256 - val_accuracy: 0.5146 - lr: 5.0000e-04\n",
      "Epoch 12/200\n",
      "3487/3487 [==============================] - ETA: 0s - loss: 0.2283 - accuracy: 0.8207\n",
      "Epoch 12: saving model to checkpoints/nmt_model_epoch_12.keras\n",
      "\n",
      "Epoch 12: val_loss did not improve from 1.90260\n",
      "3487/3487 [==============================] - 176s 50ms/step - loss: 0.2283 - accuracy: 0.8207 - val_loss: 1.9371 - val_accuracy: 0.5161 - lr: 5.0000e-04\n",
      "Epoch 13/200\n",
      "3486/3487 [============================>.] - ETA: 0s - loss: 0.2198 - accuracy: 0.8258\n",
      "Epoch 13: saving model to checkpoints/nmt_model_epoch_13.keras\n",
      "\n",
      "Epoch 13: val_loss did not improve from 1.90260\n",
      "3487/3487 [==============================] - 175s 50ms/step - loss: 0.2198 - accuracy: 0.8258 - val_loss: 1.9398 - val_accuracy: 0.5166 - lr: 5.0000e-04\n",
      "Epoch 14/200\n",
      "3487/3487 [==============================] - ETA: 0s - loss: 0.2130 - accuracy: 0.8300\n",
      "Epoch 14: saving model to checkpoints/nmt_model_epoch_14.keras\n",
      "\n",
      "Epoch 14: val_loss did not improve from 1.90260\n",
      "\n",
      "Epoch 14: ReduceLROnPlateau reducing learning rate to 0.0002500000118743628.\n",
      "3487/3487 [==============================] - 175s 50ms/step - loss: 0.2130 - accuracy: 0.8300 - val_loss: 1.9531 - val_accuracy: 0.5154 - lr: 5.0000e-04\n",
      "Epoch 15/200\n",
      "3486/3487 [============================>.] - ETA: 0s - loss: 0.1981 - accuracy: 0.8398\n",
      "Epoch 15: saving model to checkpoints/nmt_model_epoch_15.keras\n",
      "\n",
      "Epoch 15: val_loss did not improve from 1.90260\n",
      "3487/3487 [==============================] - 175s 50ms/step - loss: 0.1981 - accuracy: 0.8398 - val_loss: 1.9575 - val_accuracy: 0.5175 - lr: 2.5000e-04\n",
      "Epoch 16/200\n",
      "3486/3487 [============================>.] - ETA: 0s - loss: 0.1929 - accuracy: 0.8435\n",
      "Epoch 16: saving model to checkpoints/nmt_model_epoch_16.keras\n",
      "\n",
      "Epoch 16: val_loss did not improve from 1.90260\n",
      "Restoring model weights from the end of the best epoch: 11.\n",
      "3487/3487 [==============================] - 175s 50ms/step - loss: 0.1930 - accuracy: 0.8435 - val_loss: 1.9594 - val_accuracy: 0.5185 - lr: 2.5000e-04\n",
      "Epoch 16: early stopping\n"
     ]
    }
   ],
   "source": [
    "history = training_model.fit(\n",
    "    train_dataset,\n",
    "    validation_data=val_dataset,\n",
    "    initial_epoch=10,\n",
    "    epochs=200,  # Large number to let EarlyStopping decide when to stop\n",
    "    callbacks=[\n",
    "        checkpoint_cb_per_epoch,  # Save after every epoch\n",
    "        checkpoint_cb_best,       # Save best model\n",
    "        early_stopping_cb,        # Stop if no improvement\n",
    "        reduce_lr_cb              # Reduce LR on plateau\n",
    "    ]\n",
    ")"
   ]
  },
  {
   "cell_type": "code",
   "execution_count": null,
   "metadata": {},
   "outputs": [],
   "source": []
  },
  {
   "cell_type": "code",
   "execution_count": 28,
   "metadata": {},
   "outputs": [
    {
     "data": {
      "image/png": "[encoded data removed]",
      "text/plain": [
       "<Figure size 1200x500 with 2 Axes>"
      ]
     },
     "metadata": {},
     "output_type": "display_data"
    }
   ],
   "source": [
    "plot_training_history(history)"
   ]
  },
  {
   "cell_type": "code",
   "execution_count": null,
   "metadata": {},
   "outputs": [],
   "source": []
  },
  {
   "cell_type": "code",
   "execution_count": 48,
   "metadata": {},
   "outputs": [],
   "source": [
    "def predict_translation(input_sentence, encoder_inference_model, decoder_inference_model,\n",
    "                        input_vocab, input_inv_vocab, target_vocab, target_inv_vocab,\n",
    "                        Tx, Ty, beam_width=3, max_decoder_steps=None):\n",
    "    \"\"\"\n",
    "    Translates a single English sentence to French using the trained NMT model\n",
    "    with beam search.\n",
    "\n",
    "    Args:\n",
    "        input_sentence (str): The English sentence to translate.\n",
    "        encoder_inference_model (tf.keras.Model): The trained encoder inference model.\n",
    "        decoder_inference_model (tf.keras.Model): The trained decoder inference model.\n",
    "        input_vocab (dict): English word_to_index vocabulary.\n",
    "        input_inv_vocab (dict): English index_to_word vocabulary.\n",
    "        target_vocab (dict): French word_to_index vocabulary.\n",
    "        target_inv_vocab (dict): French index_to_word vocabulary.\n",
    "        Tx (int): Max input sequence length used during training.\n",
    "        Ty (int): Max target sequence length used during training (including EOS).\n",
    "        beam_width (int): The width of the beam for beam search.\n",
    "        max_decoder_steps (int, optional): Maximum steps for decoder. Defaults to Ty if None.\n",
    "\n",
    "    Returns:\n",
    "        str: The translated French sentence.\n",
    "    \"\"\"\n",
    "    if max_decoder_steps is None:\n",
    "        max_decoder_steps = Ty # Or adjust based on your desired max output length\n",
    "\n",
    "    # 1. Preprocess the input sentence\n",
    "    # Assuming `tokenize` is available globally or imported\n",
    "    tokenized_input = tokenize([input_sentence])\n",
    "    # Assuming `sentences_to_indices` is available globally or imported\n",
    "    indexed_input = sentences_to_indices(tokenized_input, input_vocab)\n",
    "    \n",
    "    # Pad to Tx\n",
    "    padded_input = tf.keras.preprocessing.sequence.pad_sequences(\n",
    "        indexed_input, maxlen=Tx, padding='post', value=input_vocab[\"<pad>\"]\n",
    "    )\n",
    "    padded_input = np.array(padded_input) # Ensure it's a numpy array for Keras\n",
    "\n",
    "    # 2. Encode the input sentence\n",
    "    # encoder_outputs: (1, Tx, lstm_units) - for attention\n",
    "    # h, c: (1, lstm_units * 2) - initial decoder states\n",
    "    encoder_outputs, h, c = encoder_inference_model.predict(padded_input, verbose=0)\n",
    "\n",
    "    # 3. Initialize Beam Search\n",
    "    # Each beam is a tuple: (sequence_of_indices, current_h_state, current_c_state, current_log_probability)\n",
    "    # Start with <SOS> token. Log prob is 0 for initial state.\n",
    "    beams = [([target_vocab[\"<sos>\"]], h, c, 0.0)]\n",
    "    final_translations = [] # To store completed translations (those that hit <EOS>)\n",
    "\n",
    "    for _ in range(max_decoder_steps): # Iterate up to max output length\n",
    "        all_candidates = []\n",
    "        for seq, h_state, c_state, log_prob in beams:\n",
    "            # If this beam has already produced an <EOS> token, keep it as is and add to final\n",
    "            if seq[-1] == target_vocab[\"<eos>\"]:\n",
    "                final_translations.append((seq, log_prob))\n",
    "                continue # Do not expand this beam further\n",
    "\n",
    "            # Get the last generated token for the current beam\n",
    "            last_token = seq[-1]\n",
    "            \n",
    "            # Prepare decoder input for one step (batch_size 1 for this single token)\n",
    "            decoder_single_input = np.array([[last_token]]) \n",
    "\n",
    "            # Predict next token and states using the decoder inference model\n",
    "            # decoder_outputs_probs: (1, 1, target_vocab_size)\n",
    "            # new_h, new_c: (1, lstm_units * 2)\n",
    "            decoder_outputs_probs, new_h, new_c = decoder_inference_model.predict(\n",
    "                [decoder_single_input, encoder_outputs, h_state, c_state], verbose=0\n",
    "            )\n",
    "\n",
    "            # Get top 'beam_width' candidates from the probabilities\n",
    "            # Flatten to (target_vocab_size,)\n",
    "            token_probs = decoder_outputs_probs[0, 0, :] # Probabilities for the single predicted token\n",
    "            \n",
    "            # Get indices of top 'beam_width' probabilities\n",
    "            # Use argsort to get indices, then slice the top `beam_width`\n",
    "            # Add a small epsilon to probabilities to avoid log(0) for extremely low values\n",
    "            # (though softmax output should prevent exact 0s, it's safer)\n",
    "            top_k_indices = np.argsort(token_probs + 1e-10)[-beam_width:][::-1] # Sort descending\n",
    "\n",
    "            for token_idx in top_k_indices:\n",
    "                token_log_prob = np.log(token_probs[token_idx] + 1e-10) # Log probability of this token\n",
    "                candidate_seq = seq + [token_idx] # Extend sequence\n",
    "                candidate_log_prob = log_prob + token_log_prob # Accumulate log probability\n",
    "                all_candidates.append((candidate_seq, new_h, new_c, candidate_log_prob))\n",
    "        \n",
    "        # Sort all expanded candidates (including those that hit EOS in previous step)\n",
    "        # by their accumulated log probability and select top 'beam_width' for next iteration\n",
    "        # Only consider active beams for expansion in the next loop.\n",
    "        all_candidates.sort(key=lambda x: x[3], reverse=True)\n",
    "        beams = all_candidates[:beam_width]\n",
    "\n",
    "        # Check if all current beams have ended with <EOS>\n",
    "        # If so, we can stop early, as no more expansion is needed for these paths.\n",
    "        if all(b_seq[-1] == target_vocab[\"<eos>\"] for b_seq, _, _, _ in beams):\n",
    "            # Add remaining beams to final_translations if they ended with EOS\n",
    "            final_translations.extend([(b_seq, b_log_prob) for b_seq, _, _, b_log_prob in beams if b_seq[-1] == target_vocab[\"<eos>\"]])\n",
    "            break # All active beams are done\n",
    "\n",
    "    # After the loop, select the best translation from all completed and uncompleted beams\n",
    "    # (uncompleted beams are those that reached max_decoder_steps without an EOS)\n",
    "    if not final_translations and not beams:\n",
    "        return \"Translation failed: No valid sequences generated.\"\n",
    "    \n",
    "    # If no beams hit EOS, pick the best among the unfinished ones\n",
    "    if not final_translations:\n",
    "        best_seq, _, _, best_log_prob = max(beams, key=lambda x: x[3])\n",
    "    else: # Otherwise, pick the best from the completed ones\n",
    "        best_seq, best_log_prob = max(final_translations, key=lambda x: x[1])\n",
    "\n",
    "\n",
    "    # Convert indices back to words, remove SOS/EOS/PAD tokens\n",
    "    translated_words = []\n",
    "    for idx in best_seq:\n",
    "        if idx == target_vocab[\"<sos>\"] or idx == target_vocab[\"<pad>\"]:\n",
    "            continue\n",
    "        if idx == target_vocab[\"<eos>\"]:\n",
    "            break # Stop at EOS\n",
    "        translated_words.append(target_inv_vocab.get(idx, '<unk>')) # Use .get with unk fallback\n",
    "\n",
    "    return \" \".join(translated_words)"
   ]
  },
  {
   "cell_type": "code",
   "execution_count": 49,
   "metadata": {},
   "outputs": [],
   "source": [
    "eng_inv_vocab = {idx: word for word, idx in eng_vocab.items()}\n",
    "fra_inv_vocab = {idx: word for word, idx in fra_vocab.items()}"
   ]
  },
  {
   "cell_type": "code",
   "execution_count": 51,
   "metadata": {},
   "outputs": [
    {
     "name": "stdout",
     "output_type": "stream",
     "text": [
      "1. English: How are you?\n",
      "   French:  comment vas-tu ?\n",
      "\n",
      "2. English: I love machine learning.\n",
      "   French:  j'adore les fraises\n",
      "\n",
      "3. English: What time is it?\n",
      "   French:  quelle heure est le temps ?\n",
      "\n",
      "4. English: Where is the nearest station?\n",
      "   French:  où se trouve la gare la plus proche ?\n",
      "\n",
      "5. English: Thank you very much!\n",
      "   French:  merci beaucoup !\n",
      "\n"
     ]
    }
   ],
   "source": [
    "sentences = [\n",
    "    \"How are you?\",\n",
    "    \"I love machine learning.\",\n",
    "    \"What time is it?\",\n",
    "    \"Where is the nearest station?\",\n",
    "    \"Thank you very much!\"\n",
    "]\n",
    "\n",
    "for i, sen in enumerate(sentences, 1):\n",
    "    translation = predict_translation(\n",
    "        sen,\n",
    "        encoder_inference_model,\n",
    "        decoder_inference_model,\n",
    "        eng_vocab,\n",
    "        eng_inv_vocab,\n",
    "        fra_vocab,\n",
    "        fra_inv_vocab,\n",
    "        Tx,\n",
    "        Ty,\n",
    "        beam_width=3  # or set >1 for beam search\n",
    "    )\n",
    "    \n",
    "    print(f\"{i}. English: {sen}\")\n",
    "    print(f\"   French:  {translation}\\n\")"
   ]
  },
  {
   "cell_type": "code",
   "execution_count": null,
   "metadata": {},
   "outputs": [],
   "source": []
  },
  {
   "cell_type": "code",
   "execution_count": 52,
   "metadata": {},
   "outputs": [],
   "source": [
    "sentences_to_translate = [\n",
    "    \"How are you?\",\n",
    "    \"I love machine learning.\",\n",
    "    \"What time is it?\",\n",
    "    \"Where is the nearest station?\",\n",
    "    \"Thank you very much!\",\n",
    "    \"I want to go home.\",\n",
    "    \"The weather is beautiful today.\",\n",
    "    \"Can I help you?\",\n",
    "    \"Please speak slowly.\",\n",
    "    \"I don't understand.\",\n",
    "    \"What is your name?\",\n",
    "    \"My name is John.\",\n",
    "    \"I am a student.\",\n",
    "    \"He likes to read books.\",\n",
    "    \"She plays the piano.\",\n",
    "    \"We are learning French.\",\n",
    "    \"They live in Paris.\",\n",
    "    \"This is a difficult problem.\",\n",
    "    \"I need some water.\",\n",
    "    \"Do you speak English?\",\n",
    "    \"Yes, a little.\",\n",
    "    \"No, not at all.\",\n",
    "    \"Good morning.\",\n",
    "    \"Good night.\",\n",
    "    \"See you later.\",\n",
    "    \"Excuse me.\",\n",
    "    \"I am sorry.\",\n",
    "    \"It's a beautiful day.\",\n",
    "    \"The cat is on the table.\",\n",
    "    \"Where is the bathroom?\",\n",
    "    \"I would like a coffee, please.\",\n",
    "    \"How much does it cost?\",\n",
    "    \"I am hungry.\",\n",
    "    \"I am thirsty.\",\n",
    "    \"Help me, please.\",\n",
    "    \"Call an ambulance!\",\n",
    "    \"I am lost.\",\n",
    "    \"Can you show me the way?\",\n",
    "    \"I live in Lahore.\",\n",
    "    \"My favorite color is blue.\",\n",
    "    \"This food is delicious.\",\n",
    "    \"I enjoy traveling.\",\n",
    "    \"What is your job?\",\n",
    "    \"I am an engineer.\",\n",
    "    \"It's raining outside.\",\n",
    "    \"Happy birthday!\",\n",
    "    \"I wish you good luck.\",\n",
    "    \"The world is big.\",\n",
    "    \"Tell me more.\",\n",
    "    \"I need a break.\"\n",
    "]"
   ]
  },
  {
   "cell_type": "code",
   "execution_count": 53,
   "metadata": {},
   "outputs": [],
   "source": [
    "output_file_path = \"translations_output.tsv\""
   ]
  },
  {
   "cell_type": "code",
   "execution_count": 54,
   "metadata": {},
   "outputs": [
    {
     "name": "stdout",
     "output_type": "stream",
     "text": [
      "\n",
      "--- Generating and Saving Translations ---\n",
      "1. English: How are you?\n",
      "   French Prediction: comment vas-tu ?\n",
      "2. English: I love machine learning.\n",
      "   French Prediction: j'adore les mathématiques.\n",
      "3. English: What time is it?\n",
      "   French Prediction: quelle heure est-il, ?\n",
      "4. English: Where is the nearest station?\n",
      "   French Prediction: où se trouve la gare la plus proche ?\n",
      "5. English: Thank you very much!\n",
      "   French Prediction: merci beaucoup !\n",
      "6. English: I want to go home.\n",
      "   French Prediction: je veux aller à la maison.\n",
      "7. English: The weather is beautiful today.\n",
      "   French Prediction: le temps est beau aujourd'hui.\n",
      "8. English: Can I help you?\n",
      "   French Prediction: puis-je vous aider ?\n",
      "9. English: Please speak slowly.\n",
      "   French Prediction: parle s'il te plaît.\n",
      "10. English: I don't understand.\n",
      "   French Prediction: je ne comprends pas.\n",
      "11. English: What is your name?\n",
      "   French Prediction: quel est votre nom de famille ?\n",
      "12. English: My name is John.\n",
      "   French Prediction: mon nom est mme jackson.\n",
      "13. English: I am a student.\n",
      "   French Prediction: je suis étudiant.\n",
      "14. English: He likes to read books.\n",
      "   French Prediction: il aime lire des livres.\n",
      "15. English: She plays the piano.\n",
      "   French Prediction: elle joue du piano.\n",
      "16. English: We are learning French.\n",
      "   French Prediction: nous étudions le français.\n",
      "17. English: They live in Paris.\n",
      "   French Prediction: ils vivent à boston.\n",
      "18. English: This is a difficult problem.\n",
      "   French Prediction: c'est un problème très difficile.\n",
      "19. English: I need some water.\n",
      "   French Prediction: j'ai besoin d'un peu d'eau.\n",
      "20. English: Do you speak English?\n",
      "   French Prediction: parles-tu déjà ?\n",
      "21. English: Yes, a little.\n",
      "   French Prediction: un peu triste !\n",
      "22. English: No, not at all.\n",
      "   French Prediction: non, absolument pas du tout.\n",
      "23. English: Good morning.\n",
      "   French Prediction: bon matin.\n",
      "24. English: Good night.\n",
      "   French Prediction: bonne nuit !\n",
      "25. English: See you later.\n",
      "   French Prediction: à vous voir plus tard.\n",
      "26. English: Excuse me.\n",
      "   French Prediction: excusez-moi.\n",
      "27. English: I am sorry.\n",
      "   French Prediction: je suis désolé.\n",
      "28. English: It's a beautiful day.\n",
      "   French Prediction: c'est une belle journée.\n",
      "29. English: The cat is on the table.\n",
      "   French Prediction: le chat est sur la table.\n",
      "30. English: Where is the bathroom?\n",
      "   French Prediction: où sont les toilettes ?\n",
      "31. English: I would like a coffee, please.\n",
      "   French Prediction: j'aimerais un café, s'il vous plaît.\n",
      "32. English: How much does it cost?\n",
      "   French Prediction: combien coûte combien ?\n",
      "33. English: I am hungry.\n",
      "   French Prediction: j'ai faim.\n",
      "34. English: I am thirsty.\n",
      "   French Prediction: j'ai soif.\n",
      "35. English: Help me, please.\n",
      "   French Prediction: aide-moi, s'il te plait.\n",
      "36. English: Call an ambulance!\n",
      "   French Prediction: appelle un bisou !\n",
      "37. English: I am lost.\n",
      "   French Prediction: je suis perdu.\n",
      "38. English: Can you show me the way?\n",
      "   French Prediction: pouvez-vous m'indiquer le chemin ?\n",
      "39. English: I live in Lahore.\n",
      "   French Prediction: je vis confortablement.\n",
      "40. English: My favorite color is blue.\n",
      "   French Prediction: ma couleur préférée est le bleu.\n",
      "41. English: This food is delicious.\n",
      "   French Prediction: cette nourriture est délicieux.\n",
      "42. English: I enjoy traveling.\n",
      "   French Prediction: j'aime voyager.\n",
      "43. English: What is your job?\n",
      "   French Prediction: quelle est votre travail ?\n",
      "44. English: I am an engineer.\n",
      "   French Prediction: je suis ingénieur.\n",
      "45. English: It's raining outside.\n",
      "   French Prediction: il pleut à l'extérieur.\n",
      "46. English: Happy birthday!\n",
      "   French Prediction: bon anniversaire !\n",
      "47. English: I wish you good luck.\n",
      "   French Prediction: je te souhaite bonne chance.\n",
      "48. English: The world is big.\n",
      "   French Prediction: le monde est grand.\n",
      "49. English: Tell me more.\n",
      "   French Prediction: dis-m'en davantage.\n",
      "50. English: I need a break.\n",
      "   French Prediction: j'ai besoin d'une pause.\n",
      "\n",
      "Translations saved to: translations_output.tsv\n",
      "\n",
      "--- Translation Process Complete ---\n"
     ]
    }
   ],
   "source": [
    "with open(output_file_path, 'w', encoding='utf-8') as f_out:\n",
    "    # Write header\n",
    "    f_out.write(\"Original English\\tFrench Prediction\\n\")\n",
    "\n",
    "    print(\"\\n--- Generating and Saving Translations ---\")\n",
    "    for i, sen in enumerate(sentences_to_translate, 1):\n",
    "        translation = predict_translation(\n",
    "            sen,\n",
    "            encoder_inference_model,\n",
    "            decoder_inference_model,\n",
    "            eng_vocab,\n",
    "            eng_inv_vocab,\n",
    "            fra_vocab,\n",
    "            fra_inv_vocab,\n",
    "            Tx,\n",
    "            Ty,\n",
    "            beam_width=5 # Using a slightly higher beam_width for potentially better quality\n",
    "        )\n",
    "\n",
    "        print(f\"{i}. English: {sen}\")\n",
    "        print(f\"   French Prediction: {translation}\")\n",
    "\n",
    "        # Write to file (tab-separated)\n",
    "        f_out.write(f\"{sen}\\t{translation}\\n\")\n",
    "\n",
    "print(f\"\\nTranslations saved to: {output_file_path}\")\n",
    "print(\"\\n--- Translation Process Complete ---\")"
   ]
  },
  {
   "cell_type": "code",
   "execution_count": 70,
   "metadata": {},
   "outputs": [
    {
     "name": "stdout",
     "output_type": "stream",
     "text": [
      "Skipping header: Original English\tFrench Prediction\n"
     ]
    }
   ],
   "source": [
    "data_list = []\n",
    "\n",
    "with open('translations_output.tsv', mode=\"r\", encoding=\"utf-8\") as file:\n",
    "    # Read the header line and discard it\n",
    "    header = file.readline()\n",
    "    print(f\"Skipping header: {header.strip()}\")\n",
    "\n",
    "    for line in file:\n",
    "        stripped_line = line.strip()\n",
    "        columns = stripped_line.split('\\t')\n",
    "        data_list.append(tuple(columns))"
   ]
  },
  {
   "cell_type": "code",
   "execution_count": 71,
   "metadata": {},
   "outputs": [
    {
     "data": {
      "text/plain": [
       "[('How are you?', 'comment vas-tu ?'),\n",
       " ('I love machine learning.', \"j'adore les mathématiques.\"),\n",
       " ('What time is it?', 'quelle heure est-il, ?'),\n",
       " ('Where is the nearest station?', 'où se trouve la gare la plus proche ?'),\n",
       " ('Thank you very much!', 'merci beaucoup !'),\n",
       " ('I want to go home.', 'je veux aller à la maison.'),\n",
       " ('The weather is beautiful today.', \"le temps est beau aujourd'hui.\"),\n",
       " ('Can I help you?', 'puis-je vous aider ?'),\n",
       " ('Please speak slowly.', \"parle s'il te plaît.\"),\n",
       " (\"I don't understand.\", 'je ne comprends pas.'),\n",
       " ('What is your name?', 'quel est votre nom de famille ?'),\n",
       " ('My name is John.', 'mon nom est mme jackson.'),\n",
       " ('I am a student.', 'je suis étudiant.'),\n",
       " ('He likes to read books.', 'il aime lire des livres.'),\n",
       " ('She plays the piano.', 'elle joue du piano.'),\n",
       " ('We are learning French.', 'nous étudions le français.'),\n",
       " ('They live in Paris.', 'ils vivent à boston.'),\n",
       " ('This is a difficult problem.', \"c'est un problème très difficile.\"),\n",
       " ('I need some water.', \"j'ai besoin d'un peu d'eau.\"),\n",
       " ('Do you speak English?', 'parles-tu déjà ?'),\n",
       " ('Yes, a little.', 'un peu triste !'),\n",
       " ('No, not at all.', 'non, absolument pas du tout.'),\n",
       " ('Good morning.', 'bon matin.'),\n",
       " ('Good night.', 'bonne nuit !'),\n",
       " ('See you later.', 'à vous voir plus tard.'),\n",
       " ('Excuse me.', 'excusez-moi.'),\n",
       " ('I am sorry.', 'je suis désolé.'),\n",
       " (\"It's a beautiful day.\", \"c'est une belle journée.\"),\n",
       " ('The cat is on the table.', 'le chat est sur la table.'),\n",
       " ('Where is the bathroom?', 'où sont les toilettes ?'),\n",
       " ('I would like a coffee, please.', \"j'aimerais un café, s'il vous plaît.\"),\n",
       " ('How much does it cost?', 'combien coûte combien ?'),\n",
       " ('I am hungry.', \"j'ai faim.\"),\n",
       " ('I am thirsty.', \"j'ai soif.\"),\n",
       " ('Help me, please.', \"aide-moi, s'il te plait.\"),\n",
       " ('Call an ambulance!', 'appelle un bisou !'),\n",
       " ('I am lost.', 'je suis perdu.'),\n",
       " ('Can you show me the way?', \"pouvez-vous m'indiquer le chemin ?\"),\n",
       " ('I live in Lahore.', 'je vis confortablement.'),\n",
       " ('My favorite color is blue.', 'ma couleur préférée est le bleu.'),\n",
       " ('This food is delicious.', 'cette nourriture est délicieux.'),\n",
       " ('I enjoy traveling.', \"j'aime voyager.\"),\n",
       " ('What is your job?', 'quelle est votre travail ?'),\n",
       " ('I am an engineer.', 'je suis ingénieur.'),\n",
       " (\"It's raining outside.\", \"il pleut à l'extérieur.\"),\n",
       " ('Happy birthday!', 'bon anniversaire !'),\n",
       " ('I wish you good luck.', 'je te souhaite bonne chance.'),\n",
       " ('The world is big.', 'le monde est grand.'),\n",
       " ('Tell me more.', \"dis-m'en davantage.\"),\n",
       " ('I need a break.', \"j'ai besoin d'une pause.\")]"
      ]
     },
     "execution_count": 71,
     "metadata": {},
     "output_type": "execute_result"
    }
   ],
   "source": [
    "data_list"
   ]
  },
  {
   "cell_type": "code",
   "execution_count": 86,
   "metadata": {},
   "outputs": [],
   "source": [
    "list_of_translations_with_interpretations = [\n",
    "    ('How are you?', 'comment vas-tu ?', 'how are you ?'),\n",
    "    ('I love machine learning.', \"j'adore les mathématiques.\", 'i love mathematics.'),\n",
    "    ('What time is it?', 'quelle heure est-il, ?', 'what time is it, ?'), # The extra comma is noted\n",
    "    ('Where is the nearest station?', 'où se trouve la gare la plus proche ?', 'where is the nearest station ?'),\n",
    "    ('Thank you very much!', 'merci beaucoup !', 'thank you very much !'),\n",
    "    ('I want to go home.', 'je veux aller à la maison.', 'i want to go home.'),\n",
    "    ('The weather is beautiful today.', \"le temps est beau aujourd'hui.\", 'the weather is beautiful today.'),\n",
    "    ('Can I help you?', 'puis-je vous aider ?', 'can i help you ?'),\n",
    "    ('Please speak slowly.', \"parle s'il te plaît.\", 'speak please.'), # Missing \"slowly\"\n",
    "    (\"I don't understand.\", 'je ne comprends pas.', 'i do not understand.'),\n",
    "    ('What is your name?', 'quel est votre nom de famille ?', 'what is your family name ?'), # More specific than \"name\"\n",
    "    ('My name is John.', 'mon nom est mme jackson.', 'my name is mrs. jackson.'), # Hallucination on name\n",
    "    ('I am a student.', 'je suis étudiant.', 'i am a student.'),\n",
    "    ('He likes to read books.', 'il aime lire des livres.', 'he likes to read books.'),\n",
    "    ('She plays the piano.', 'elle joue du piano.', 'she plays the piano.'),\n",
    "    ('We are learning French.', 'nous étudions le français.', 'we are studying french.'), # 'étudions' is 'studying'\n",
    "    ('They live in Paris.', 'ils vivent à boston.', 'they live in boston.'), # Hallucination on city\n",
    "    ('This is a difficult problem.', \"c'est un problème très difficile.\", 'it is a very difficult problem.'),\n",
    "    ('I need some water.', \"j'ai besoin d'un peu d'eau.\", 'i need some water.'),\n",
    "    ('Do you speak English?', 'parles-tu déjà ?', 'do you speak already ?'), # Missing \"English\"\n",
    "    ('Yes, a little.', 'un peu triste !', 'a little sad !'), # Hallucination\n",
    "    ('No, not at all.', 'non, absolument pas du tout.', 'no, absolutely not at all.'),\n",
    "    ('Good morning.', 'bon matin.', 'good morning.'), # Less common than \"Bonjour\" but understandable\n",
    "    ('Good night.', 'bonne nuit !', 'good night !'),\n",
    "    ('See you later.', 'à vous voir plus tard.', 'to see you later.'), # Formal \"you\" / plural \"you\"\n",
    "    ('Excuse me.', 'excusez-moi.', 'excuse me.'),\n",
    "    ('I am sorry.', 'je suis désolé.', 'i am sorry.'),\n",
    "    (\"It's a beautiful day.\", \"c'est une belle journée.\", 'it is a beautiful day.'),\n",
    "    ('The cat is on the table.', 'le chat est sur la table.', 'the cat is on the table.'),\n",
    "    ('Where is the bathroom?', 'où sont les toilettes ?', 'where are the toilets ?'), # Common way to ask\n",
    "    ('I would like a coffee, please.', \"j'aimerais un café, s'il vous plaît.\", 'i would like a coffee, please.'),\n",
    "    ('How much does it cost?', 'combien coûte combien ?', 'how much does it cost how much ?'), # Redundant\n",
    "    ('I am hungry.', \"j'ai faim.\", 'i am hungry.'),\n",
    "    ('I am thirsty.', \"j'ai soif.\", 'i am thirsty.'),\n",
    "    ('Help me, please.', \"aide-moi, s'il te plait.\", 'help me, please.'),\n",
    "    ('Call an ambulance!', 'appelle un bisou !', 'call a kiss !'), # Hallucination\n",
    "    ('I am lost.', 'je suis perdu.', 'i am lost.'),\n",
    "    ('Can you show me the way?', \"pouvez-vous m'indiquer le chemin ?\", 'can you show me the way ?'),\n",
    "    ('I live in Lahore.', 'je vis confortablement.', 'i live comfortably.'), # Hallucination on city\n",
    "    ('My favorite color is blue.', 'ma couleur préférée est le bleu.', 'my favorite color is blue.'),\n",
    "    ('This food is delicious.', 'cette nourriture est délicieux.', 'this food is delicious.'), # 'délicieuse' would be feminine\n",
    "    ('I enjoy traveling.', \"j'aime voyager.\", 'i like to travel.'),\n",
    "    ('What is your job?', 'quelle est votre travail ?', 'what is your work ?'), # \"travail\" = work\n",
    "    ('I am an engineer.', 'je suis ingénieur.', 'i am an engineer.'),\n",
    "    (\"It's raining outside.\", \"il pleut à l'extérieur.\", 'it is raining outside.'),\n",
    "    ('Happy birthday!', 'bon anniversaire !', 'happy birthday !'),\n",
    "    ('I wish you good luck.', 'je te souhaite bonne chance.', 'i wish you good luck.'),\n",
    "    ('The world is big.', 'le monde est grand.', 'the world is big.'),\n",
    "    ('Tell me more.', \"dis-m'en davantage.\", 'tell me more.'),\n",
    "    ('I need a break.', \"j'ai besoin d'une pause.\", 'i need a break.'),\n",
    "]"
   ]
  },
  {
   "cell_type": "code",
   "execution_count": 87,
   "metadata": {},
   "outputs": [
    {
     "name": "stdout",
     "output_type": "stream",
     "text": [
      "Saved to 'translation_comparison.tsv' successfully.\n"
     ]
    }
   ],
   "source": [
    "import csv\n",
    "\n",
    "output_file = \"translation_comparison.tsv\"\n",
    "\n",
    "header = [\"Original English\", \"Model French Translation\", \"Back-Translated English\"]\n",
    "\n",
    "with open(output_file, mode=\"w\", newline='', encoding=\"utf-8\") as file:\n",
    "    writer = csv.writer(file, delimiter=\"\\t\")\n",
    "    writer.writerow(header)  # Write header\n",
    "    for row in list_of_translations_with_interpretations:\n",
    "        writer.writerow(row)\n",
    "\n",
    "print(f\"Saved to '{output_file}' successfully.\")"
   ]
  },
  {
   "cell_type": "code",
   "execution_count": null,
   "metadata": {},
   "outputs": [],
   "source": []
  },
  {
   "cell_type": "code",
   "execution_count": null,
   "metadata": {},
   "outputs": [],
   "source": []
  }
 ],
 "metadata": {
  "kernelspec": {
   "display_name": "Python 3",
   "language": "python",
   "name": "python3"
  },
  "language_info": {
   "codemirror_mode": {
    "name": "ipython",
    "version": 3
   },
   "file_extension": ".py",
   "mimetype": "text/x-python",
   "name": "python",
   "nbconvert_exporter": "python",
   "pygments_lexer": "ipython3",
   "version": "3.8.10"
  }
 },
 "nbformat": 4,
 "nbformat_minor": 4
}
